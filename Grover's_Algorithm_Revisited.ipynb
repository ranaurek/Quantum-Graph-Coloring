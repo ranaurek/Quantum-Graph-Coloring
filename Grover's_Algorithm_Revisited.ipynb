{
  "cells": [
    {
      "cell_type": "markdown",
      "metadata": {
        "id": "view-in-github",
        "colab_type": "text"
      },
      "source": [
        "<a href=\"https://colab.research.google.com/github/ranaurek/Quantum-Graph-Coloring/blob/main/Grover's_Algorithm_Revisited.ipynb\" target=\"_parent\"><img src=\"https://colab.research.google.com/assets/colab-badge.svg\" alt=\"Open In Colab\"/></a>"
      ]
    },
    {
      "cell_type": "code",
      "source": [
        "pip install qiskit"
      ],
      "metadata": {
        "id": "u3Dh0ynM_6Wi"
      },
      "execution_count": null,
      "outputs": []
    },
    {
      "cell_type": "code",
      "execution_count": 2,
      "metadata": {
        "id": "Lj2UAXuh_4VD"
      },
      "outputs": [],
      "source": [
        "# Preamble\n",
        "import qiskit\n",
        "qiskit.__version__\n",
        "from qiskit import *\n",
        "\n",
        "from qiskit.visualization import plot_bloch_multivector, plot_histogram\n",
        "import matplotlib.pyplot as plt\n",
        "\n",
        "\n",
        "import numpy as np\n",
        "from math import pi\n",
        "\n",
        "%matplotlib inline\n",
        "\n",
        "from IPython.display import Image ## For displaying Images"
      ]
    },
    {
      "cell_type": "code",
      "source": [
        "def diffuser(nqubits):\n",
        "    qc = QuantumCircuit(nqubits)\n",
        "    # Apply transformation |s> -> |00..0> (H-gates)\n",
        "    for qubit in range(nqubits):\n",
        "        qc.h(qubit)\n",
        "    # Apply transformation |00..0> -> |11..1> (X-gates)\n",
        "    for qubit in range(nqubits):\n",
        "        qc.x(qubit)\n",
        "    # Do multi-controlled-Z gate\n",
        "    qc.h(nqubits-1)\n",
        "    qc.mct(list(range(nqubits-1)), nqubits-1)  # multi-controlled-toffoli\n",
        "    qc.h(nqubits-1)\n",
        "    # Apply transformation |11..1> -> |00..0>\n",
        "    for qubit in range(nqubits):\n",
        "        qc.x(qubit)\n",
        "    # Apply transformation |00..0> -> |s>\n",
        "    for qubit in range(nqubits):\n",
        "        qc.h(qubit)\n",
        "    # We will return the diffuser as a gate\n",
        "    U_s = qc.to_gate()\n",
        "    U_s.name = \"U$_s$\"\n",
        "    return U_s"
      ],
      "metadata": {
        "id": "DwxjJ4kHANXR"
      },
      "execution_count": 3,
      "outputs": []
    },
    {
      "cell_type": "code",
      "execution_count": 4,
      "metadata": {
        "id": "ca9E0L_v_4VF"
      },
      "outputs": [],
      "source": [
        "def find_colorings(graph, nNodes, nColors, nShots):\n",
        "    \n",
        "    \n",
        "    num_edges = 0 \n",
        "    for key in graph:\n",
        "        num_edges += len(graph[key])\n",
        "        \n",
        "\n",
        "    # Create a quantum circuit.\n",
        "    q = QuantumRegister(nNodes*nColors)\n",
        "    \n",
        "    clauseQubits = QuantumRegister(nNodes+num_edges)\n",
        "    \n",
        "    outputQubit = QuantumRegister(1)\n",
        "\n",
        "    c=ClassicalRegister(nColors*nNodes)\n",
        "    qc = QuantumCircuit(q,clauseQubits,outputQubit,c)\n",
        "    \n",
        "    qc.initialize([1, -1]/np.sqrt(2), outputQubit)\n",
        "\n",
        "\n",
        "    # Superposition the color qubits for each node.\n",
        "    s=0\n",
        "    for n in range(nNodes):\n",
        "        s=nColors*n\n",
        "        for k in range(nColors):\n",
        "            qc.h(s+k)\n",
        "            \n",
        "    def apply_oracle():\n",
        "        \n",
        "        \n",
        "        \n",
        "        for n in range(nNodes):\n",
        "            for k in range(nColors):\n",
        "                qc.cx(q[2*n+k],clauseQubits[n])\n",
        "                \n",
        "        edgeCounter = nNodes-1;\n",
        "        for origin in graph:\n",
        "            for neighbor in graph[origin]:\n",
        "                edgeCounter+=1\n",
        "                print(origin,neighbor)\n",
        "                for k in range(nColors):\n",
        "                    qc.ccx(q[2*origin+k],q[2*neighbor+k],clauseQubits[edgeCounter])\n",
        "                qc.x(clauseQubits[edgeCounter]);\n",
        "                \n",
        "        qc.mct(clauseQubits, outputQubit)\n",
        "        \n",
        "        for n in range(nNodes):\n",
        "            for k in range(nColors):\n",
        "                qc.cx(q[2*n+k],clauseQubits[n])\n",
        "                \n",
        "        edgeCounter = nNodes-1;\n",
        "        \n",
        "        \n",
        "        for origin in graph:\n",
        "            for neighbor in graph[origin]:\n",
        "                edgeCounter+=1\n",
        "                for k in range(nColors):\n",
        "                    qc.ccx(q[2*origin+k],q[2*neighbor+k],clauseQubits[edgeCounter])\n",
        "                qc.x(clauseQubits[edgeCounter]);\n",
        "    \n",
        "\n",
        "    \n",
        "    \n",
        "    \n",
        "    \n",
        "        qc.append(diffuser(nNodes+num_edges), [i for i in range(0,nNodes+num_edges)])\n",
        "        \n",
        "    \n",
        "                \n",
        "    apply_oracle()\n",
        "    apply_oracle()\n",
        "    \n",
        "    # cb=nColors*nNodes-1\n",
        "    for n in range(nNodes):\n",
        "        # s=n*nColors\n",
        "        for k in range(nColors):\n",
        "            # qb=s+k\n",
        "            qc.measure(q[2*n+k],c[2*n+k])\n",
        "            # cb=cb-1\n",
        "\n",
        "    # Execute the circuit on the qasm simulator.\n",
        "    backend_sim = Aer.get_backend('qasm_simulator')\n",
        "    job = execute(qc, backend_sim, shots=nShots)\n",
        "    # Grab the results from the job.\n",
        "    result_sim = job.result()\n",
        "    counts = result_sim.get_counts(qc)\n",
        "\n",
        "    # Return results.\n",
        "    return counts\n",
        "\n",
        "def niceify(counts):\n",
        "    nice_counts = {}\n",
        "    for k,v in counts.items():\n",
        "        nice_counts[\",\".join([k[nColors * i : nColors * i + nColors] for i in range(len(k) // nColors + 1)])] = v\n",
        "    return nice_counts"
      ]
    },
    {
      "cell_type": "code",
      "execution_count": null,
      "metadata": {
        "colab": {
          "base_uri": "https://localhost:8080/"
        },
        "id": "wFJraKvR_4VG",
        "outputId": "0ad16fc2-8e77-4bd8-ee20-79049b36e058"
      },
      "outputs": [
        {
          "output_type": "stream",
          "name": "stdout",
          "text": [
            "0 1\n",
            "1 2\n",
            "0 1\n",
            "1 2\n",
            "{'00,01,11,': 1, '11,01,00,': 1, '11,10,11,': 1, '11,11,10,': 1, '11,11,01,': 1, '01,11,01,': 1, '10,01,10,': 15, '11,10,00,': 1, '10,10,00,': 1, '00,01,00,': 2, '01,10,10,': 1, '00,11,01,': 1, '01,10,01,': 21, '10,10,01,': 2}\n"
          ]
        }
      ],
      "source": [
        "nNodes=3\n",
        "nColors=2\n",
        "graph = {\n",
        "    0 : [1],\n",
        "    1 : [2]\n",
        "}\n",
        "\n",
        "counts = find_colorings(graph, nNodes, nColors, 50)\n",
        "print(niceify(counts))"
      ]
    },
    {
      "cell_type": "code",
      "execution_count": null,
      "metadata": {
        "colab": {
          "base_uri": "https://localhost:8080/",
          "height": 364
        },
        "id": "pUMQeQzH_4VH",
        "outputId": "0dce98ce-ebf1-47ba-fcf8-96820f3b19a7"
      },
      "outputs": [
        {
          "output_type": "execute_result",
          "data": {
            "text/plain": [
              "<Figure size 504x360 with 1 Axes>"
            ],
            "image/png": "[encoded data removed]"
          },
          "metadata": {},
          "execution_count": 9
        }
      ],
      "source": [
        "plot_histogram(counts)"
      ]
    }
  ],
  "metadata": {
    "colab": {
      "name": "Grover's Algorithm Revisited.ipynb",
      "provenance": [],
      "include_colab_link": true
    },
    "kernelspec": {
      "display_name": "Python 3 (ipykernel)",
      "language": "python",
      "name": "python3"
    },
    "language_info": {
      "codemirror_mode": {
        "name": "ipython",
        "version": 3
      },
      "file_extension": ".py",
      "mimetype": "text/x-python",
      "name": "python",
      "nbconvert_exporter": "python",
      "pygments_lexer": "ipython3",
      "version": "3.8.12"
    }
  },
  "nbformat": 4,
  "nbformat_minor": 0
}