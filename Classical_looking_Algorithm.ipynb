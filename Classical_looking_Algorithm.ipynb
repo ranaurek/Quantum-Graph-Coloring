{
  "nbformat": 4,
  "nbformat_minor": 0,
  "metadata": {
    "colab": {
      "name": "Classical-looking Algorithm.ipynb",
      "provenance": [],
      "collapsed_sections": [],
      "include_colab_link": true
    },
    "kernelspec": {
      "name": "python3",
      "display_name": "Python 3"
    },
    "language_info": {
      "name": "python"
    }
  },
  "cells": [
    {
      "cell_type": "markdown",
      "metadata": {
        "id": "view-in-github",
        "colab_type": "text"
      },
      "source": [
        "<a href=\"https://colab.research.google.com/github/ranaurek/Quantum-Graph-Coloring/blob/main/Classical_looking_Algorithm.ipynb\" target=\"_parent\"><img src=\"https://colab.research.google.com/assets/colab-badge.svg\" alt=\"Open In Colab\"/></a>"
      ]
    },
    {
      "cell_type": "code",
      "source": [
        "pip install qiskit"
      ],
      "metadata": {
        "id": "1dtmdyt61R7G"
      },
      "execution_count": null,
      "outputs": []
    },
    {
      "cell_type": "code",
      "source": [
        "pip install pylatexenc"
      ],
      "metadata": {
        "id": "vq0vNMO_2ral"
      },
      "execution_count": null,
      "outputs": []
    },
    {
      "cell_type": "code",
      "source": [
        "# Preamble\n",
        "import qiskit\n",
        "qiskit.__version__\n",
        "from qiskit import *\n",
        "\n",
        "from qiskit.visualization import plot_bloch_multivector, plot_histogram\n",
        "import matplotlib.pyplot as plt\n",
        "\n",
        "\n",
        "import numpy as np\n",
        "from math import pi\n",
        "\n",
        "%matplotlib inline\n",
        "\n",
        "from IPython.display import Image ## For displaying Images"
      ],
      "metadata": {
        "id": "x8WWElWO2xKL"
      },
      "execution_count": null,
      "outputs": []
    },
    {
      "cell_type": "markdown",
      "source": [
        "A Classical-looking Algorithm"
      ],
      "metadata": {
        "id": "25Fnx4GXi3NA"
      }
    },
    {
      "cell_type": "code",
      "source": [
        "def find_colorings(graph, nNodes, nColors, nShots):\n",
        "\n",
        "  nc = nColors + 1\n",
        "  # Calculate how many qubits we need.\n",
        "  nn2=round((nNodes-1)*nNodes/2) # Number of pairs of different nodes (n choose 2)\n",
        "  # and of possible edges\n",
        "  sc=round(nc*nNodes) # Pointer to list of same-color qubits\n",
        "  # for pairs and edges\n",
        "  sg=round(nc*nNodes + nn2) # Pointer to list of edge qubits\n",
        "  nqbits=sc + 2*nn2 # Total number of qubits\n",
        "\n",
        "  # Create a quantum circuit.\n",
        "  q = QuantumRegister(nqbits)\n",
        "  c=ClassicalRegister(nColors*nNodes)\n",
        "  qc = QuantumCircuit(q,c)\n",
        "\n",
        "  # Set the edge qubits in the circuit.\n",
        "  for src in graph.keys():\n",
        "    if src not in graph:\n",
        "      continue\n",
        "    else:\n",
        "      for dst in graph[src]:\n",
        "        # edge qubits for n+1 nodes arranged like:\n",
        "        # 0-1, 0-2, ..., 0-n, 1-2, 1-3, ..., (n-1)-n\n",
        "        # so to calculate position of edge qubit for src and dst,\n",
        "        # get pointer to start of 0-i qubits by calculating row offset and then\n",
        "        # subtracting the number of missing symmetric (redundant) qubits,\n",
        "        # then offset by (dst-src-1) to get the particular edge between them.\n",
        "        qc.x(sg + src*nNodes - round(src*(src+1)/2) + (dst - src - 1))\n",
        "\n",
        "  # Superposition the color qubits for each node.\n",
        "  s=0\n",
        "  for n in range(nNodes):\n",
        "    s=nc*n\n",
        "    for k in range(nColors):\n",
        "      qc.h(s+k)\n",
        "\n",
        "  # Check the constraints to limit superpositions to possible colorings using\n",
        "  # the ancillary qubits.\n",
        "  s=0\n",
        "  for n in range(nNodes):\n",
        "\n",
        "    s=n*nc\n",
        "\n",
        "    # Eliminate 11\n",
        "    for k in range(nColors-1):\n",
        "      for l in range(k+1,nColors):\n",
        "        qc.ccx (s+k,s+l,s+nColors)\n",
        "        qc.cx (s+nColors,s+k)\n",
        "        qc.reset(s+nColors)\n",
        "\n",
        "    # Eliminate 0* (no colour assigned to the node n) \n",
        "    for k in range(nColors):\n",
        "      qc.x(s+k)\n",
        "    cb=list(range(s,s+nColors))\n",
        "    qc.mcx (cb,s+nColors)\n",
        "    for k in range(nColors):\n",
        "      qc.x(s+k)\n",
        "      qc.cx (s+nColors,s+nColors-1) # NOTE THIS PART OF THE CODE MAKES 001001001 combination the most likely !!! (in 3 nodes 3 colors)\n",
        "      qc.reset(s+nColors)\n",
        "\n",
        "  # Set the same-color qubits so that we can check the coloring against the edges.\n",
        "  for k in range(nColors):\n",
        "    s=nc*nNodes\n",
        "    for n1 in range(nNodes-1):\n",
        "      for n2 in range(n1+1,nNodes):\n",
        "        n11=nc*n1+k \n",
        "        # If q[n11]=|1> it means the node n1 has the color k\n",
        "        n22=nc*n2+k \n",
        "        # If q[n22]=|1> it means the node n2 has the color k\n",
        "        qc.ccx(n11,n22,s) \n",
        "        s# If same color k, set s to |1>.\n",
        "        # Notice it can happens at most for one k\n",
        "        s=s+1\n",
        "        \n",
        "\n",
        "  # Check that the coloring is valid by comparing same-color and edge qubits.\n",
        "  for n in range(sc,sc+nn2): # For each pair of nodes\n",
        "    # If same color and there is an edge \n",
        "    #\"destroy\" (set to |0*>) the colouring\n",
        "    for node in range(nNodes):\n",
        "      qnode=nc*node\n",
        "      qnc=qnode+nColors\n",
        "      for k in range(nColors):\n",
        "        cb=[n,n+nn2,qnode+k]\n",
        "        qc.mcx (cb,qnc)\n",
        "        cb=[n,n+nn2,qnc]\n",
        "        qc.mcx (cb,qnode+k)\n",
        "        qc.reset(qnc)\n",
        "\n",
        "  # Measure (qiskit notation is weird so account for that)\n",
        "  cb=nColors*nNodes-1\n",
        "  for n in range(nNodes):\n",
        "    s=n*nc\n",
        "    for k in range(nColors):\n",
        "      qb=s+k\n",
        "      qc.measure(qb,cb)\n",
        "      cb=cb-1\n",
        "\n",
        "  # Execute the circuit on the qasm simulator.\n",
        "  backend_sim = Aer.get_backend('qasm_simulator')\n",
        "  job = execute(qc, backend_sim, shots=nShots)\n",
        "  # Grab the results from the job.\n",
        "  result_sim = job.result()\n",
        "  counts = result_sim.get_counts(qc)\n",
        "\n",
        "  # Return results.\n",
        "  return counts\n",
        "\n",
        "def niceify(counts):\n",
        "  nice_counts = {}\n",
        "  for k,v in counts.items():\n",
        "    nice_counts[\",\".join([k[nColors * i : nColors * i + nColors] for i in range(len(k) // nColors + 1)])] = v\n",
        "  return nice_counts"
      ],
      "metadata": {
        "id": "ZT03Gld46lOZ"
      },
      "execution_count": null,
      "outputs": []
    },
    {
      "cell_type": "markdown",
      "source": [
        "2 Coloring for a 3 Node Graph (arranegd in a line)"
      ],
      "metadata": {
        "id": "VoVVdpiv7g8e"
      }
    },
    {
      "cell_type": "code",
      "source": [
        "nNodes=3\n",
        "nColors=2\n",
        "graph = {\n",
        "    0 : [1],\n",
        "    1 : [2]\n",
        "}\n",
        "\n",
        "counts = find_colorings(graph, nNodes, nColors, 100)\n",
        "print(niceify(counts))"
      ],
      "metadata": {
        "colab": {
          "base_uri": "https://localhost:8080/"
        },
        "id": "wkGyLU4x5Uk4",
        "outputId": "aca2c536-903f-4e9e-86b6-e8e28c19d473"
      },
      "execution_count": null,
      "outputs": [
        {
          "output_type": "stream",
          "name": "stdout",
          "text": [
            "{'10,01,10,': 2, '01,10,01,': 14, '00,00,00,': 84}\n"
          ]
        }
      ]
    },
    {
      "cell_type": "markdown",
      "source": [
        "3 Coloring of a 3 Node Graph (arranged in a cycle)"
      ],
      "metadata": {
        "id": "e4PWypD37ntt"
      }
    },
    {
      "cell_type": "code",
      "source": [
        "nNodes=3\n",
        "nColors=3\n",
        "graph = {\n",
        "    0 : [1, 2],\n",
        "    1 : [2]\n",
        "}\n",
        "\n",
        "counts = find_colorings(graph, nNodes, nColors, 1000)\n",
        "print(niceify(counts))\n",
        "#qc.draw()"
      ],
      "metadata": {
        "colab": {
          "base_uri": "https://localhost:8080/"
        },
        "id": "w7k5CcPswcau",
        "outputId": "7c024fd8-ed47-4e3e-8021-be76dd5027f3"
      },
      "execution_count": null,
      "outputs": [
        {
          "output_type": "stream",
          "name": "stdout",
          "text": [
            "{'100,001,010,': 15, '001,100,010,': 15, '010,001,100,': 17, '000,000,000,': 898, '001,010,100,': 22, '100,010,001,': 17, '010,100,001,': 16}\n"
          ]
        }
      ]
    },
    {
      "cell_type": "markdown",
      "source": [
        "2 Coloring of a 3 Node Graph (arranged in a cycle)"
      ],
      "metadata": {
        "id": "dH6YocD572jX"
      }
    },
    {
      "cell_type": "code",
      "source": [
        "nNodes=3\n",
        "nColors=2\n",
        "graph = {\n",
        "    0 : [1, 2],\n",
        "    1 : [2]\n",
        "}\n",
        "\n",
        "counts = find_colorings(graph, nNodes, nColors, 1000)\n",
        "print(niceify(counts))"
      ],
      "metadata": {
        "colab": {
          "base_uri": "https://localhost:8080/"
        },
        "id": "wP2iHafbWkko",
        "outputId": "78b80900-4a48-4f46-ae2a-af62c3d886a3"
      },
      "execution_count": null,
      "outputs": [
        {
          "output_type": "stream",
          "name": "stdout",
          "text": [
            "{'00,00,00,': 1000}\n"
          ]
        }
      ]
    },
    {
      "cell_type": "markdown",
      "source": [
        "2 Coloring of a 4 Node Graph (arranged in a cycle)"
      ],
      "metadata": {
        "id": "ZKa__691784z"
      }
    },
    {
      "cell_type": "code",
      "source": [
        "nNodes=4\n",
        "nColors=2\n",
        "graph = {\n",
        "    0 : [1, 3],\n",
        "    1 : [2],\n",
        "    2:  [3]\n",
        "}\n",
        "\n",
        "counts = find_colorings(graph, nNodes, nColors, 100)\n",
        "print(niceify(counts))"
      ],
      "metadata": {
        "colab": {
          "base_uri": "https://localhost:8080/"
        },
        "id": "VjRFdq7P90pL",
        "outputId": "836ebc09-098b-4d4f-ae53-3ed4f512bb8c"
      },
      "execution_count": null,
      "outputs": [
        {
          "output_type": "stream",
          "name": "stdout",
          "text": [
            "{'10,01,10,01,': 2, '00,00,00,00,': 94, '01,10,01,10,': 4}\n"
          ]
        }
      ]
    },
    {
      "cell_type": "markdown",
      "source": [
        "3 Coloring of a 4 Node Graph (run not enough times so no solutions found)"
      ],
      "metadata": {
        "id": "zH_2dF5s8IH6"
      }
    },
    {
      "cell_type": "code",
      "source": [
        "nNodes=4\n",
        "nColors=3\n",
        "graph = {\n",
        "    0 : [1, 2, 3],\n",
        "    1 : [3],\n",
        "    2:  [3]\n",
        "}\n",
        "\n",
        "counts = find_colorings(graph, nNodes, nColors, 1)\n",
        "print(niceify(counts))"
      ],
      "metadata": {
        "id": "_29hAhyv1KcW",
        "colab": {
          "base_uri": "https://localhost:8080/"
        },
        "outputId": "62f96a25-8a14-49b1-b2a2-8748be907404"
      },
      "execution_count": null,
      "outputs": [
        {
          "output_type": "stream",
          "name": "stdout",
          "text": [
            "{'000,000,000,000,': 1}\n"
          ]
        }
      ]
    }
  ]
}