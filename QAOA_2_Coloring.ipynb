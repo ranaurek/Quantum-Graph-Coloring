{
  "nbformat": 4,
  "nbformat_minor": 0,
  "metadata": {
    "colab": {
      "name": "QAOA 2-Coloring.ipynb",
      "provenance": [],
      "authorship_tag": "ABX9TyMRmFg/2HLxLdCPwptUZkDo",
      "include_colab_link": true
    },
    "kernelspec": {
      "name": "python3",
      "display_name": "Python 3"
    },
    "language_info": {
      "name": "python"
    }
  },
  "cells": [
    {
      "cell_type": "markdown",
      "metadata": {
        "id": "view-in-github",
        "colab_type": "text"
      },
      "source": [
        "<a href=\"https://colab.research.google.com/github/ranaurek/Quantum-Graph-Coloring/blob/main/QAOA_2_Coloring.ipynb\" target=\"_parent\"><img src=\"https://colab.research.google.com/assets/colab-badge.svg\" alt=\"Open In Colab\"/></a>"
      ]
    },
    {
      "cell_type": "code",
      "execution_count": null,
      "metadata": {
        "id": "I2879qsIWML6"
      },
      "outputs": [],
      "source": [
        "pip install qiskit"
      ]
    },
    {
      "cell_type": "code",
      "source": [
        "pip install pylatexenc"
      ],
      "metadata": {
        "id": "wa86hvSXY5y5"
      },
      "execution_count": null,
      "outputs": []
    },
    {
      "cell_type": "code",
      "source": [
        "# As always, our preamble!\n",
        "from qiskit import *\n",
        "\n",
        "import numpy as np\n",
        "import math as m\n",
        "import matplotlib.pyplot as plt\n",
        "from qiskit import QuantumCircuit, QuantumRegister, ClassicalRegister, execute, BasicAer, IBMQ\n",
        "from qiskit.visualization import plot_histogram, plot_bloch_multivector\n",
        "\n",
        "import qiskit\n",
        "import networkx as nx\n",
        "import matplotlib.pyplot as plt"
      ],
      "metadata": {
        "id": "oOzTglmzZDh8"
      },
      "execution_count": 8,
      "outputs": []
    },
    {
      "cell_type": "code",
      "source": [
        "import networkx as nx\n",
        "\n",
        "G = nx.Graph()\n",
        "G.add_nodes_from([0, 1, 2, 3])\n",
        "G.add_edges_from([(0, 1), (1, 2), (2, 3), (3, 0)])\n",
        "nx.draw(G, with_labels=True, alpha=0.8, node_size=500)"
      ],
      "metadata": {
        "colab": {
          "base_uri": "https://localhost:8080/",
          "height": 319
        },
        "id": "dYVD6ErjZKX_",
        "outputId": "6434035e-8d1e-457e-c9ff-cda9f8a08927"
      },
      "execution_count": 4,
      "outputs": [
        {
          "output_type": "display_data",
          "data": {
            "text/plain": [
              "<Figure size 432x288 with 1 Axes>"
            ],
            "image/png": "[encoded data removed]"
          },
          "metadata": {}
        }
      ]
    },
    {
      "cell_type": "code",
      "source": [
        "from qiskit.circuit import Parameter\n",
        "\n",
        "# Adjacency is essentially a matrix which tells you which nodes are\n",
        "# connected. This matrix is given as a sparse matrix, so we need to\n",
        "# convert it to a dense matrix\n",
        "adjacency = nx.adjacency_matrix(G).todense()\n",
        "\n",
        "nqubits = 4\n",
        "\n",
        "beta = Parameter(\"$\\\\beta$\")\n",
        "qc_mix = QuantumCircuit(nqubits)\n",
        "for i in range(0, nqubits):\n",
        "    qc_mix.rx(2 * beta, i)\n",
        "    \n",
        "qc_mix.draw()"
      ],
      "metadata": {
        "colab": {
          "base_uri": "https://localhost:8080/",
          "height": 155
        },
        "id": "bSVpAHJXrXq4",
        "outputId": "1b40630d-e858-4bda-e742-add4f021a6bf"
      },
      "execution_count": null,
      "outputs": [
        {
          "output_type": "execute_result",
          "data": {
            "text/plain": [
              "     ┌───────────────┐\n",
              "q_0: ┤ Rx(2*$\\beta$) ├\n",
              "     ├───────────────┤\n",
              "q_1: ┤ Rx(2*$\\beta$) ├\n",
              "     ├───────────────┤\n",
              "q_2: ┤ Rx(2*$\\beta$) ├\n",
              "     ├───────────────┤\n",
              "q_3: ┤ Rx(2*$\\beta$) ├\n",
              "     └───────────────┘"
            ],
            "text/html": [
              "<pre style=\"word-wrap: normal;white-space: pre;background: #fff0;line-height: 1.1;font-family: &quot;Courier New&quot;,Courier,monospace\">     ┌───────────────┐\n",
              "q_0: ┤ Rx(2*$\\beta$) ├\n",
              "     ├───────────────┤\n",
              "q_1: ┤ Rx(2*$\\beta$) ├\n",
              "     ├───────────────┤\n",
              "q_2: ┤ Rx(2*$\\beta$) ├\n",
              "     ├───────────────┤\n",
              "q_3: ┤ Rx(2*$\\beta$) ├\n",
              "     └───────────────┘</pre>"
            ]
          },
          "metadata": {},
          "execution_count": 8
        }
      ]
    },
    {
      "cell_type": "code",
      "source": [
        "gamma = Parameter(\"$\\\\gamma$\")\n",
        "qc_p = QuantumCircuit(nqubits)\n",
        "for pair in list(G.edges()):  # pairs of nodes\n",
        "    qc_p.rzz(2 * gamma, pair[0], pair[1])\n",
        "    qc_p.barrier()\n",
        "    \n",
        "qc_p.draw()"
      ],
      "metadata": {
        "colab": {
          "base_uri": "https://localhost:8080/",
          "height": 294
        },
        "id": "XtLdMb0ltXay",
        "outputId": "5c127e9f-9c27-4a91-a7da-73b150b31d26"
      },
      "execution_count": null,
      "outputs": [
        {
          "output_type": "execute_result",
          "data": {
            "text/plain": [
              "                       ░                   ░                   ░ »\n",
              "q_0: ─■────────────────░──■────────────────░───────────────────░─»\n",
              "      │ZZ(2*$\\gamma$)  ░  │                ░                   ░ »\n",
              "q_1: ─■────────────────░──┼────────────────░──■────────────────░─»\n",
              "                       ░  │                ░  │ZZ(2*$\\gamma$)  ░ »\n",
              "q_2: ──────────────────░──┼────────────────░──■────────────────░─»\n",
              "                       ░  │ZZ(2*$\\gamma$)  ░                   ░ »\n",
              "q_3: ──────────────────░──■────────────────░───────────────────░─»\n",
              "                       ░                   ░                   ░ »\n",
              "«                       ░ \n",
              "«q_0: ──────────────────░─\n",
              "«                       ░ \n",
              "«q_1: ──────────────────░─\n",
              "«                       ░ \n",
              "«q_2: ─■────────────────░─\n",
              "«      │ZZ(2*$\\gamma$)  ░ \n",
              "«q_3: ─■────────────────░─\n",
              "«                       ░ "
            ],
            "text/html": [
              "<pre style=\"word-wrap: normal;white-space: pre;background: #fff0;line-height: 1.1;font-family: &quot;Courier New&quot;,Courier,monospace\">                       ░                   ░                   ░ »\n",
              "q_0: ─■────────────────░──■────────────────░───────────────────░─»\n",
              "      │ZZ(2*$\\gamma$)  ░  │                ░                   ░ »\n",
              "q_1: ─■────────────────░──┼────────────────░──■────────────────░─»\n",
              "                       ░  │                ░  │ZZ(2*$\\gamma$)  ░ »\n",
              "q_2: ──────────────────░──┼────────────────░──■────────────────░─»\n",
              "                       ░  │ZZ(2*$\\gamma$)  ░                   ░ »\n",
              "q_3: ──────────────────░──■────────────────░───────────────────░─»\n",
              "                       ░                   ░                   ░ »\n",
              "«                       ░ \n",
              "«q_0: ──────────────────░─\n",
              "«                       ░ \n",
              "«q_1: ──────────────────░─\n",
              "«                       ░ \n",
              "«q_2: ─■────────────────░─\n",
              "«      │ZZ(2*$\\gamma$)  ░ \n",
              "«q_3: ─■────────────────░─\n",
              "«                       ░ </pre>"
            ]
          },
          "metadata": {},
          "execution_count": 10
        }
      ]
    },
    {
      "cell_type": "code",
      "source": [
        "qc_0 = QuantumCircuit(nqubits)\n",
        "for i in range(0, nqubits):\n",
        "    qc_0.h(i)\n",
        "    \n",
        "qc_0.draw()"
      ],
      "metadata": {
        "colab": {
          "base_uri": "https://localhost:8080/",
          "height": 155
        },
        "id": "ziXLuOx9u1wS",
        "outputId": "4e2f8691-2fbc-4e72-ad61-027669f4f9d1"
      },
      "execution_count": null,
      "outputs": [
        {
          "output_type": "execute_result",
          "data": {
            "text/plain": [
              "     ┌───┐\n",
              "q_0: ┤ H ├\n",
              "     ├───┤\n",
              "q_1: ┤ H ├\n",
              "     ├───┤\n",
              "q_2: ┤ H ├\n",
              "     ├───┤\n",
              "q_3: ┤ H ├\n",
              "     └───┘"
            ],
            "text/html": [
              "<pre style=\"word-wrap: normal;white-space: pre;background: #fff0;line-height: 1.1;font-family: &quot;Courier New&quot;,Courier,monospace\">     ┌───┐\n",
              "q_0: ┤ H ├\n",
              "     ├───┤\n",
              "q_1: ┤ H ├\n",
              "     ├───┤\n",
              "q_2: ┤ H ├\n",
              "     ├───┤\n",
              "q_3: ┤ H ├\n",
              "     └───┘</pre>"
            ]
          },
          "metadata": {},
          "execution_count": 11
        }
      ]
    },
    {
      "cell_type": "code",
      "source": [
        "qc_qaoa = QuantumCircuit(nqubits)\n",
        "\n",
        "qc_qaoa.append(qc_0, [i for i in range(0, nqubits)])\n",
        "qc_qaoa.append(qc_p, [i for i in range(0, nqubits)])\n",
        "qc_qaoa.append(qc_mix, [i for i in range(0, nqubits)])\n",
        "\n",
        "qc_qaoa.decompose().decompose().draw()"
      ],
      "metadata": {
        "colab": {
          "base_uri": "https://localhost:8080/",
          "height": 433
        },
        "id": "E6ZoU_8HyGwg",
        "outputId": "cd3e407b-411e-4acb-a980-b4b9b5024d5d"
      },
      "execution_count": null,
      "outputs": [
        {
          "output_type": "execute_result",
          "data": {
            "text/plain": [
              "     ┌─────────┐                             ░                              ░ »\n",
              "q_0: ┤ U2(0,π) ├──■──────────────────────■───░───■──────────────────────■───░─»\n",
              "     ├─────────┤┌─┴─┐┌────────────────┐┌─┴─┐ ░   │                      │   ░ »\n",
              "q_1: ┤ U2(0,π) ├┤ X ├┤ Rz(2*$\\gamma$) ├┤ X ├─░───┼──────────────────────┼───░─»\n",
              "     ├─────────┤└───┘└────────────────┘└───┘ ░   │                      │   ░ »\n",
              "q_2: ┤ U2(0,π) ├─────────────────────────────░───┼──────────────────────┼───░─»\n",
              "     ├─────────┤                             ░ ┌─┴─┐┌────────────────┐┌─┴─┐ ░ »\n",
              "q_3: ┤ U2(0,π) ├─────────────────────────────░─┤ X ├┤ Rz(2*$\\gamma$) ├┤ X ├─░─»\n",
              "     └─────────┘                             ░ └───┘└────────────────┘└───┘ ░ »\n",
              "«                                  ░                              ░ »\n",
              "«q_0: ─────────────────────────────░──────────────────────────────░─»\n",
              "«                                  ░                              ░ »\n",
              "«q_1: ──■──────────────────────■───░──────────────────────────────░─»\n",
              "«     ┌─┴─┐┌────────────────┐┌─┴─┐ ░                              ░ »\n",
              "«q_2: ┤ X ├┤ Rz(2*$\\gamma$) ├┤ X ├─░───■──────────────────────■───░─»\n",
              "«     └───┘└────────────────┘└───┘ ░ ┌─┴─┐┌────────────────┐┌─┴─┐ ░ »\n",
              "«q_3: ─────────────────────────────░─┤ X ├┤ Rz(2*$\\gamma$) ├┤ X ├─░─»\n",
              "«                                  ░ └───┘└────────────────┘└───┘ ░ »\n",
              "«     ┌────────────────┐\n",
              "«q_0: ┤ R(2*$\\beta$,0) ├\n",
              "«     ├────────────────┤\n",
              "«q_1: ┤ R(2*$\\beta$,0) ├\n",
              "«     ├────────────────┤\n",
              "«q_2: ┤ R(2*$\\beta$,0) ├\n",
              "«     ├────────────────┤\n",
              "«q_3: ┤ R(2*$\\beta$,0) ├\n",
              "«     └────────────────┘"
            ],
            "text/html": [
              "<pre style=\"word-wrap: normal;white-space: pre;background: #fff0;line-height: 1.1;font-family: &quot;Courier New&quot;,Courier,monospace\">     ┌─────────┐                             ░                              ░ »\n",
              "q_0: ┤ U2(0,π) ├──■──────────────────────■───░───■──────────────────────■───░─»\n",
              "     ├─────────┤┌─┴─┐┌────────────────┐┌─┴─┐ ░   │                      │   ░ »\n",
              "q_1: ┤ U2(0,π) ├┤ X ├┤ Rz(2*$\\gamma$) ├┤ X ├─░───┼──────────────────────┼───░─»\n",
              "     ├─────────┤└───┘└────────────────┘└───┘ ░   │                      │   ░ »\n",
              "q_2: ┤ U2(0,π) ├─────────────────────────────░───┼──────────────────────┼───░─»\n",
              "     ├─────────┤                             ░ ┌─┴─┐┌────────────────┐┌─┴─┐ ░ »\n",
              "q_3: ┤ U2(0,π) ├─────────────────────────────░─┤ X ├┤ Rz(2*$\\gamma$) ├┤ X ├─░─»\n",
              "     └─────────┘                             ░ └───┘└────────────────┘└───┘ ░ »\n",
              "«                                  ░                              ░ »\n",
              "«q_0: ─────────────────────────────░──────────────────────────────░─»\n",
              "«                                  ░                              ░ »\n",
              "«q_1: ──■──────────────────────■───░──────────────────────────────░─»\n",
              "«     ┌─┴─┐┌────────────────┐┌─┴─┐ ░                              ░ »\n",
              "«q_2: ┤ X ├┤ Rz(2*$\\gamma$) ├┤ X ├─░───■──────────────────────■───░─»\n",
              "«     └───┘└────────────────┘└───┘ ░ ┌─┴─┐┌────────────────┐┌─┴─┐ ░ »\n",
              "«q_3: ─────────────────────────────░─┤ X ├┤ Rz(2*$\\gamma$) ├┤ X ├─░─»\n",
              "«                                  ░ └───┘└────────────────┘└───┘ ░ »\n",
              "«     ┌────────────────┐\n",
              "«q_0: ┤ R(2*$\\beta$,0) ├\n",
              "«     ├────────────────┤\n",
              "«q_1: ┤ R(2*$\\beta$,0) ├\n",
              "«     ├────────────────┤\n",
              "«q_2: ┤ R(2*$\\beta$,0) ├\n",
              "«     ├────────────────┤\n",
              "«q_3: ┤ R(2*$\\beta$,0) ├\n",
              "«     └────────────────┘</pre>"
            ]
          },
          "metadata": {},
          "execution_count": 15
        }
      ]
    },
    {
      "cell_type": "code",
      "source": [
        "def maxcut_obj(x, G):\n",
        "    \"\"\"\n",
        "    Given a bitstring as a solution, this function returns\n",
        "    the number of edges shared between the two partitions\n",
        "    of the graph.\n",
        "    \n",
        "    Args:\n",
        "        x: str\n",
        "           solution bitstring\n",
        "           \n",
        "        G: networkx graph\n",
        "        \n",
        "    Returns:\n",
        "        obj: float\n",
        "             Objective\n",
        "    \"\"\"\n",
        "    obj = 0\n",
        "    for i, j in G.edges():\n",
        "        if x[i] != x[j]:\n",
        "            obj -= 1\n",
        "            \n",
        "    return obj\n",
        "\n",
        "\n",
        "def compute_expectation(counts, G):\n",
        "    \n",
        "    \"\"\"\n",
        "    Computes expectation value based on measurement results\n",
        "    \n",
        "    Args:\n",
        "        counts: dict\n",
        "                key as bitstring, val as count\n",
        "           \n",
        "        G: networkx graph\n",
        "        \n",
        "    Returns:\n",
        "        avg: float\n",
        "             expectation value\n",
        "    \"\"\"\n",
        "    \n",
        "    avg = 0\n",
        "    sum_count = 0\n",
        "    for bitstring, count in counts.items():\n",
        "        \n",
        "        obj = maxcut_obj(bitstring, G)\n",
        "        avg += obj * count\n",
        "        sum_count += count\n",
        "        \n",
        "    return avg/sum_count\n",
        "\n",
        "\n",
        "# We will also bring the different circuit components that\n",
        "# build the qaoa circuit under a single function\n",
        "def create_qaoa_circ(G, theta):\n",
        "    \n",
        "    \"\"\"\n",
        "    Creates a parametrized qaoa circuit\n",
        "    \n",
        "    Args:  \n",
        "        G: networkx graph\n",
        "        theta: list\n",
        "               unitary parameters\n",
        "                     \n",
        "    Returns:\n",
        "        qc: qiskit circuit\n",
        "    \"\"\"\n",
        "    \n",
        "    nqubits = len(G.nodes())\n",
        "    p = len(theta)//2  # number of alternating unitaries\n",
        "    qc = QuantumCircuit(nqubits)\n",
        "    \n",
        "    beta = theta[:p]\n",
        "    gamma = theta[p:]\n",
        "    \n",
        "    # initial_state\n",
        "    for i in range(0, nqubits):\n",
        "        qc.h(i)\n",
        "    \n",
        "    for irep in range(0, p):\n",
        "        \n",
        "        # problem unitary\n",
        "        for pair in list(G.edges()):\n",
        "            qc.rzz(2 * gamma[irep], pair[0], pair[1])\n",
        "\n",
        "        # wave-function ansatz\n",
        "        for i in range(0, nqubits):\n",
        "            qc.rx(2 * beta[irep], i)\n",
        "            \n",
        "    qc.measure_all()\n",
        "        \n",
        "    return qc\n",
        "\n",
        "# Finally we write a function that executes the circuit on the chosen backend\n",
        "def get_expectation(G, p, shots=512):\n",
        "    \n",
        "    \"\"\"\n",
        "    Runs parametrized circuit\n",
        "    \n",
        "    Args:\n",
        "        G: networkx graph\n",
        "        p: int,\n",
        "           Number of repetitions of unitaries\n",
        "    \"\"\"\n",
        "    \n",
        "    backend = Aer.get_backend('qasm_simulator')\n",
        "    backend.shots = shots\n",
        "    \n",
        "    def execute_circ(theta):\n",
        "        \n",
        "        qc = create_qaoa_circ(G, theta)\n",
        "        counts = backend.run(qc, seed_simulator=10, \n",
        "                             nshots=512).result().get_counts()\n",
        "        \n",
        "        return compute_expectation(counts, G)\n",
        "    \n",
        "    return execute_circ"
      ],
      "metadata": {
        "id": "SMozHiEe1Xwu"
      },
      "execution_count": 5,
      "outputs": []
    },
    {
      "cell_type": "code",
      "source": [
        "from scipy.optimize import minimize\n",
        "\n",
        "\n",
        "expectation = get_expectation(G, p=1)\n",
        "\n",
        "res = minimize(expectation, \n",
        "                      [1.0, 1.0], \n",
        "                      method='COBYLA')\n",
        "res"
      ],
      "metadata": {
        "colab": {
          "base_uri": "https://localhost:8080/"
        },
        "id": "-7A17vIu2mlr",
        "outputId": "af99183c-e9ad-42dc-cdd2-67e5cf773f6f"
      },
      "execution_count": null,
      "outputs": [
        {
          "output_type": "execute_result",
          "data": {
            "text/plain": [
              "     fun: -2.994140625\n",
              "   maxcv: 0.0\n",
              " message: 'Optimization terminated successfully.'\n",
              "    nfev: 30\n",
              "  status: 1\n",
              " success: True\n",
              "       x: array([1.9793337 , 1.16663483])"
            ]
          },
          "metadata": {},
          "execution_count": 23
        }
      ]
    },
    {
      "cell_type": "code",
      "source": [
        "from qiskit.visualization import plot_histogram\n",
        "\n",
        "backend = Aer.get_backend('aer_simulator')\n",
        "backend.shots = 512\n",
        "\n",
        "qc_res = create_qaoa_circ(G, res.x)\n",
        "\n",
        "counts = backend.run(qc_res, seed_simulator=10).result().get_counts()\n",
        "\n",
        "plot_histogram(counts)"
      ],
      "metadata": {
        "colab": {
          "base_uri": "https://localhost:8080/",
          "height": 348
        },
        "id": "T0jHD_TQ2s2x",
        "outputId": "4f24ce25-1082-4c8c-8b9f-a1fec76e892d"
      },
      "execution_count": null,
      "outputs": [
        {
          "output_type": "execute_result",
          "data": {
            "text/plain": [
              "<Figure size 504x360 with 1 Axes>"
            ],
            "image/png": "[encoded data removed]"
          },
          "metadata": {},
          "execution_count": 24
        }
      ]
    },
    {
      "cell_type": "markdown",
      "source": [
        "QAOA 2-Coloring on Another Graph "
      ],
      "metadata": {
        "id": "buflwJaysLPq"
      }
    },
    {
      "cell_type": "code",
      "source": [
        "import networkx as nx\n",
        "\n",
        "G = nx.Graph()\n",
        "G.add_nodes_from([0, 1, 2, 3, 4])\n",
        "G.add_edges_from([(0, 1), (0,3), (0,4), (1,2), (2,3), (2,4)])\n",
        "nx.draw(G, with_labels=True, alpha=0.8, node_size=500)"
      ],
      "metadata": {
        "colab": {
          "base_uri": "https://localhost:8080/",
          "height": 319
        },
        "id": "5_d5a9earMGK",
        "outputId": "09447dc6-6f51-4047-e3f4-6bc57be0c877"
      },
      "execution_count": 6,
      "outputs": [
        {
          "output_type": "display_data",
          "data": {
            "text/plain": [
              "<Figure size 432x288 with 1 Axes>"
            ],
            "image/png": "[encoded data removed]"
          },
          "metadata": {}
        }
      ]
    },
    {
      "cell_type": "code",
      "source": [
        "from scipy.optimize import minimize\n",
        "expectation = get_expectation(G, p=1)\n",
        "\n",
        "res = minimize(expectation, \n",
        "                      [1.0, 1.0], \n",
        "                      method='COBYLA')\n",
        "res"
      ],
      "metadata": {
        "colab": {
          "base_uri": "https://localhost:8080/"
        },
        "id": "-njC0Iw9rtn_",
        "outputId": "5de94259-666b-47e6-9033-5e7bfb1c5049"
      },
      "execution_count": 10,
      "outputs": [
        {
          "output_type": "execute_result",
          "data": {
            "text/plain": [
              "     fun: -3.3896484375\n",
              "   maxcv: 0.0\n",
              " message: 'Optimization terminated successfully.'\n",
              "    nfev: 28\n",
              "  status: 1\n",
              " success: True\n",
              "       x: array([ 3.36524607, -0.37901319])"
            ]
          },
          "metadata": {},
          "execution_count": 10
        }
      ]
    },
    {
      "cell_type": "code",
      "source": [
        "from qiskit.visualization import plot_histogram\n",
        "\n",
        "backend = Aer.get_backend('aer_simulator')\n",
        "backend.shots = 512\n",
        "\n",
        "qc_res = create_qaoa_circ(G, res.x)\n",
        "\n",
        "counts = backend.run(qc_res, seed_simulator=10).result().get_counts()\n",
        "\n",
        "plot_histogram(counts)"
      ],
      "metadata": {
        "colab": {
          "base_uri": "https://localhost:8080/",
          "height": 356
        },
        "id": "V3eriYXMrwVE",
        "outputId": "a8b50cb7-e2d0-4016-81eb-0c2dcbf7281f"
      },
      "execution_count": 11,
      "outputs": [
        {
          "output_type": "execute_result",
          "data": {
            "text/plain": [
              "<Figure size 504x360 with 1 Axes>"
            ],
            "image/png": "[encoded data removed]"
          },
          "metadata": {},
          "execution_count": 11
        }
      ]
    },
    {
      "cell_type": "code",
      "source": [
        "_=[print(k,v) for k,v in counts.items()] #all the two high frequency colorings are valid!"
      ],
      "metadata": {
        "colab": {
          "base_uri": "https://localhost:8080/"
        },
        "id": "W7xs0WMFsCYn",
        "outputId": "851c8fa9-6dcc-4177-818a-70696427f28c"
      },
      "execution_count": 12,
      "outputs": [
        {
          "output_type": "stream",
          "name": "stdout",
          "text": [
            "01111 2\n",
            "01000 4\n",
            "11001 34\n",
            "11011 13\n",
            "01100 31\n",
            "01010 42\n",
            "10001 43\n",
            "00110 40\n",
            "11010 140\n",
            "10100 46\n",
            "11110 6\n",
            "11100 40\n",
            "10010 43\n",
            "10110 48\n",
            "11111 6\n",
            "01110 38\n",
            "10101 40\n",
            "00101 116\n",
            "01001 43\n",
            "00000 8\n",
            "01011 26\n",
            "01101 45\n",
            "00001 10\n",
            "00111 44\n",
            "00100 11\n",
            "00011 34\n",
            "10011 32\n",
            "10111 2\n",
            "11000 37\n"
          ]
        }
      ]
    }
  ]
}